{
 "cells": [
  {
   "cell_type": "code",
   "execution_count": null,
   "id": "94561409",
   "metadata": {},
   "outputs": [],
   "source": [
    "from scipy.signal import butter,sosfilt\n",
    "\n",
    "\n",
    "def butter_bandpass(lowcut, highcut, fs, order=6):\n",
    "        nyq = 0.5 * fs\n",
    "        low = lowcut / nyq\n",
    "        high = highcut / nyq\n",
    "        sos = butter(order, [low, high], btype='band',analog=False, output='sos')\n",
    "        return sos\n",
    "\n",
    "def Filter(data, lowcut, highcut, fs=5000.0, order=6):\n",
    "        sos = self.butter_bandpass(lowcut, highcut, fs, order=order)\n",
    "        y = sosfilt(sos,data)\n",
    "        return y\n",
    "\n",
    "if __name__ == \"__main__\":\n",
    "    fs=500.0\n",
    "    lowcut= 60\n",
    "    higcut= 600\n",
    "    butter_bandpass(lowcut,highcut,fs)\n",
    "    P = Filter(data)\n"
   ]
  }
 ],
 "metadata": {
  "kernelspec": {
   "display_name": "ipykernel_py2",
   "language": "python",
   "name": "ipykernel_py2"
  },
  "language_info": {
   "codemirror_mode": {
    "name": "ipython",
    "version": 3
   },
   "file_extension": ".py",
   "mimetype": "text/x-python",
   "name": "python",
   "nbconvert_exporter": "python",
   "pygments_lexer": "ipython3",
   "version": "3.6.12"
  }
 },
 "nbformat": 4,
 "nbformat_minor": 5
}
